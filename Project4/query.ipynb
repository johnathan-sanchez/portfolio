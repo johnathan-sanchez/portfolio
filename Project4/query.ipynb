{
 "cells": [
  {
   "cell_type": "code",
   "execution_count": 5,
   "metadata": {},
   "outputs": [
    {
     "name": "stdout",
     "output_type": "stream",
     "text": [
      "complaint_type\n",
      "Illegal Parking            211\n",
      "Noise - Residential         80\n",
      "Blocked Driveway            58\n",
      "Noise - Street/Sidewalk     36\n",
      "Street Condition            32\n",
      "Abandoned Vehicle           29\n",
      "HEAT/HOT WATER              29\n",
      "Derelict Vehicles           26\n",
      "Drug Activity               22\n",
      "Noise - Commercial          21\n",
      "Name: count, dtype: int64\n"
     ]
    }
   ],
   "source": [
    "import pandas as pd\n",
    "\n",
    "# Load the dataset\n",
    "data = pd.read_csv('./311CallData.csv')\n",
    "\n",
    "# Get the top 10 reasons for the calls\n",
    "top_10_reasons = data['complaint_type'].value_counts().head(10)\n",
    "\n",
    "print(top_10_reasons)"
   ]
  }
 ],
 "metadata": {
  "kernelspec": {
   "display_name": "Python 3",
   "language": "python",
   "name": "python3"
  },
  "language_info": {
   "codemirror_mode": {
    "name": "ipython",
    "version": 3
   },
   "file_extension": ".py",
   "mimetype": "text/x-python",
   "name": "python",
   "nbconvert_exporter": "python",
   "pygments_lexer": "ipython3",
   "version": "3.13.1"
  }
 },
 "nbformat": 4,
 "nbformat_minor": 2
}
